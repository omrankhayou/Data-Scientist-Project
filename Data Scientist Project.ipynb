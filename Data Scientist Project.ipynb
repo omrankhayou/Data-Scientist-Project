{
    "cells": [
        {
            "cell_type": "markdown",
            "metadata": {},
            "source": "# My Jupyter Notebook on IBM Watson Studio"
        },
        {
            "cell_type": "markdown",
            "metadata": {
                "collapsed": true
            },
            "source": "## My Name is Omran \ni Willing to work as a Data Analyst"
        },
        {
            "cell_type": "markdown",
            "metadata": {},
            "source": " I am interested in data science because I believe that understanding the data of any institution, company, organization, or even society and in any context makes us able to plan and respond more flexibly."
        },
        {
            "cell_type": "markdown",
            "metadata": {},
            "source": "The following code will give me the product of two numbers"
        },
        {
            "cell_type": "code",
            "execution_count": 25,
            "metadata": {},
            "outputs": [],
            "source": "x=100\ny=66\n\nvar1 = (x * y)\n"
        },
        {
            "cell_type": "code",
            "execution_count": 26,
            "metadata": {
                "scrolled": false
            },
            "outputs": [
                {
                    "name": "stdout",
                    "output_type": "stream",
                    "text": "6600\n"
                }
            ],
            "source": "print (var1)"
        },
        {
            "cell_type": "markdown",
            "metadata": {},
            "source": "<body>\n\n<h2>My Study List</h2>\n\n<ul>\n  <li>Food consuption Score</li>\n  <li>JIAF Frame work</li>\n  <li>IPC Frame work</li>\n</ul>  \n\n<h2>Topics to Read</h2>\n\n<ol>\n  <li>Coping strategy index</li>\n  <li>Vulnerability Scoring Model</li>\n  <li>UNICEF SAVVY Agora </li>\n</ol> \n\n</body>\n\n\n\n<body>\n\n<h2>Customers Table</h2>\n\n<table>\n  <tr>\n    <th>Name</th>\n    <th>Country</th>\n    <th>Phone Number</th>\n  </tr>\n  <tr>\n    <td>Hamzeh</td>\n    <td>Syria</td>\n    <td>+963 904 7842577</td>\n  </tr>\n  <tr>\n    <td>Leen</td>\n    <td>Lebanon</td>\n    <td>+961 965 96345112</td>\n  </tr>\n\n\n  <tr>\n    <td>Augusto</td>\n    <td>Italy</td>\n    <td>+945 2231 5123</td>\n  </tr>\n</table>\n\n\n"
        },
        {
            "cell_type": "code",
            "execution_count": null,
            "metadata": {},
            "outputs": [],
            "source": ""
        }
    ],
    "metadata": {
        "kernelspec": {
            "display_name": "Python 3.10",
            "language": "python",
            "name": "python3"
        },
        "language_info": {
            "codemirror_mode": {
                "name": "ipython",
                "version": 3
            },
            "file_extension": ".py",
            "mimetype": "text/x-python",
            "name": "python",
            "nbconvert_exporter": "python",
            "pygments_lexer": "ipython3",
            "version": "3.10.9"
        }
    },
    "nbformat": 4,
    "nbformat_minor": 1
}