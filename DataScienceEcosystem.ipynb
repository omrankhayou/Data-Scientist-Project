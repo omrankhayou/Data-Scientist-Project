{
 "cells": [
  {
   "cell_type": "markdown",
   "id": "8010a318-2caf-4a49-b8c3-5c30ffc55c73",
   "metadata": {},
   "source": [
    "<h1>Data Science Tools and Ecosystem <h1>"
   ]
  },
  {
   "cell_type": "markdown",
   "id": "4da65a51-4f81-4d87-a031-108ecb47dc9a",
   "metadata": {},
   "source": [
    "In this notebook, Data Science Tools and Ecosystem are summarized."
   ]
  },
  {
   "cell_type": "markdown",
   "id": "7d22c808-da46-42e2-a294-a167ffedb589",
   "metadata": {},
   "source": [
    "<b> Objectives: <b>\n",
    "    <ul> <li>Use Jupyter notebooks and IBM watson Studio </li>\n",
    "     <li>Create GitHub Account and upload projects into it by linking IBM Account with it</li>\n",
    "      <li>Learn IBM SSPS Modeler snd its usage and some of the capabilities</li>\n",
    "</ul>\n",
    "\n"
   ]
  },
  {
   "cell_type": "markdown",
   "id": "f70c1508-8f61-4eb0-94bc-16306c8c53d0",
   "metadata": {},
   "source": [
    "Some of the popular languages that Data Scientists use are: \n",
    "<ol> <li>Python</li>\n",
    "      <li>R</li>\n",
    "      <li>SQL</li>\n",
    "</ol> \n"
   ]
  },
  {
   "cell_type": "markdown",
   "id": "ea69625b-636d-429f-99e1-6d30588d5808",
   "metadata": {},
   "source": [
    "Some of the commonly used libraries used by Data Scientists include:\n",
    "<ol> <li>Pandas</li>\n",
    "      <li>Numpy</li>\n",
    "      <li>Matplotlib</li>\n",
    "</ol> \n"
   ]
  },
  {
   "cell_type": "markdown",
   "id": "1e0bd4fd-bb4d-47b8-8528-584d272344aa",
   "metadata": {},
   "source": [
    "<table>\n",
    "\n",
    " <tr>\n",
    "   <th>Data Science Tools</th>\n",
    "</tr>\n",
    "\n",
    "<tr> \n",
    "  <td>jupyter notebook</td>\n",
    "</tr>\n",
    "\n",
    "\n",
    "<tr>\n",
    "    <td>MATLAB</td>\n",
    "</tr>\n",
    "\n",
    " <tr>\n",
    "  <td> Tableau</td>\n",
    "</tr>\n",
    "\n",
    "</table>\n"
   ]
  },
  {
   "cell_type": "markdown",
   "id": "2ff5fb7e-fe76-448b-b96b-329ea2f50631",
   "metadata": {},
   "source": [
    "<h3> Below are a few examples of evaluating arithmetic expressions in Python. </h3>\n"
   ]
  },
  {
   "cell_type": "markdown",
   "id": "2dff1833-5e4d-4e15-b437-ffae12b3ccfa",
   "metadata": {},
   "source": [
    "<!--  This a simple arithmetic expression to mutiply then add integers -->"
   ]
  },
  {
   "cell_type": "code",
   "execution_count": 23,
   "id": "d52cc1a6-07ee-4b57-b6a0-33b24294df8b",
   "metadata": {},
   "outputs": [
    {
     "data": {
      "text/plain": [
       "17"
      ]
     },
     "execution_count": 23,
     "metadata": {},
     "output_type": "execute_result"
    }
   ],
   "source": [
    "#This a simple arithmetic expression to mutiply then add integers\n",
    "\n",
    "(3*4)+5"
   ]
  },
  {
   "cell_type": "code",
   "execution_count": 25,
   "id": "a6c0cbd7-9614-4fd1-adbf-adc1dad3dcbb",
   "metadata": {},
   "outputs": [
    {
     "name": "stdout",
     "output_type": "stream",
     "text": [
      "3.3333333333333335\n"
     ]
    }
   ],
   "source": [
    " # This will convert 200 minutes to hours by diving by 60 \n",
    "Hour=60\n",
    "minutes= 200\n",
    "hours =  minutes / Hour\n",
    "\n",
    "print (hours)"
   ]
  },
  {
   "cell_type": "markdown",
   "id": "6efeb034-868e-48ba-8d2d-362d447d9bb5",
   "metadata": {},
   "source": [
    "<h2> Author </h2>\n",
    "Omran Khayou\n"
   ]
  }
 ],
 "metadata": {
  "kernelspec": {
   "display_name": "Python",
   "language": "python",
   "name": "conda-env-python-py"
  },
  "language_info": {
   "codemirror_mode": {
    "name": "ipython",
    "version": 3
   },
   "file_extension": ".py",
   "mimetype": "text/x-python",
   "name": "python",
   "nbconvert_exporter": "python",
   "pygments_lexer": "ipython3",
   "version": "3.7.12"
  }
 },
 "nbformat": 4,
 "nbformat_minor": 5
}
